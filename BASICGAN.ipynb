{
 "cells": [
  {
   "cell_type": "code",
   "execution_count": 2,
   "metadata": {},
   "outputs": [],
   "source": [
    "# import the libraries\n",
    "import torch,pdb\n",
    "from torch.utils.data import DataLoader\n",
    "from torch import nn\n",
    "from torchvision import transforms\n",
    "from torchvision.datasets import MNIST\n",
    "from torchvision.utils import make_grid\n",
    "from tqdm.auto import tqdm\n",
    "\n",
    "import matplotlib.pyplot as plt\n"
   ]
  },
  {
   "cell_type": "code",
   "execution_count": 3,
   "metadata": {},
   "outputs": [],
   "source": [
    "# visualizatin function\n",
    "\n",
    "def show(tensor, ch=1, size=(28,28), num=16):\n",
    "    # tensor : 128(batch size) * 784(28*28)\n",
    "    data = tensor.detach().cpu().view(-1,ch,*size) # view will reshape 128*1*28*28(-1 whatever remains after doing 1*28*28) # detach for removing gradients\n",
    "    grid = make_grid(data[:num], nrows=4).permute(1,2,0) # (we are going to take 16 pictures)\n",
    "    # use of permute because pytorch takes channel *w*h matplot takes as w*h*channel\n",
    "    plt.imshow(grid)\n",
    "    plt.show()"
   ]
  },
  {
   "cell_type": "code",
   "execution_count": 4,
   "metadata": {},
   "outputs": [
    {
     "name": "stdout",
     "output_type": "stream",
     "text": [
      "Downloading http://yann.lecun.com/exdb/mnist/train-images-idx3-ubyte.gz\n",
      "Downloading http://yann.lecun.com/exdb/mnist/train-images-idx3-ubyte.gz to ./MNIST/raw/train-images-idx3-ubyte.gz\n"
     ]
    },
    {
     "name": "stderr",
     "output_type": "stream",
     "text": [
      "100%|██████████| 9912422/9912422 [00:00<00:00, 10778284.12it/s]\n"
     ]
    },
    {
     "name": "stdout",
     "output_type": "stream",
     "text": [
      "Extracting ./MNIST/raw/train-images-idx3-ubyte.gz to ./MNIST/raw\n",
      "\n",
      "Downloading http://yann.lecun.com/exdb/mnist/train-labels-idx1-ubyte.gz\n",
      "Downloading http://yann.lecun.com/exdb/mnist/train-labels-idx1-ubyte.gz to ./MNIST/raw/train-labels-idx1-ubyte.gz\n"
     ]
    },
    {
     "name": "stderr",
     "output_type": "stream",
     "text": [
      "100%|██████████| 28881/28881 [00:00<00:00, 10422964.53it/s]\n"
     ]
    },
    {
     "name": "stdout",
     "output_type": "stream",
     "text": [
      "Extracting ./MNIST/raw/train-labels-idx1-ubyte.gz to ./MNIST/raw\n",
      "\n",
      "Downloading http://yann.lecun.com/exdb/mnist/t10k-images-idx3-ubyte.gz\n",
      "Downloading http://yann.lecun.com/exdb/mnist/t10k-images-idx3-ubyte.gz to ./MNIST/raw/t10k-images-idx3-ubyte.gz\n"
     ]
    },
    {
     "name": "stderr",
     "output_type": "stream",
     "text": [
      "100%|██████████| 1648877/1648877 [00:00<00:00, 3106078.28it/s]\n"
     ]
    },
    {
     "name": "stdout",
     "output_type": "stream",
     "text": [
      "Extracting ./MNIST/raw/t10k-images-idx3-ubyte.gz to ./MNIST/raw\n",
      "\n",
      "Downloading http://yann.lecun.com/exdb/mnist/t10k-labels-idx1-ubyte.gz\n",
      "Downloading http://yann.lecun.com/exdb/mnist/t10k-labels-idx1-ubyte.gz to ./MNIST/raw/t10k-labels-idx1-ubyte.gz\n"
     ]
    },
    {
     "name": "stderr",
     "output_type": "stream",
     "text": [
      "100%|██████████| 4542/4542 [00:00<00:00, 4501542.71it/s]"
     ]
    },
    {
     "name": "stdout",
     "output_type": "stream",
     "text": [
      "Extracting ./MNIST/raw/t10k-labels-idx1-ubyte.gz to ./MNIST/raw\n",
      "\n"
     ]
    },
    {
     "name": "stderr",
     "output_type": "stream",
     "text": [
      "\n"
     ]
    }
   ],
   "source": [
    "# setup of the main parameters and hyperparameters\n",
    "\n",
    "epochs = 500\n",
    "cur_step = 0\n",
    "info_step = 300\n",
    "\n",
    "\n",
    "mean_gen_loss = 0\n",
    "mean_disc_loss = 0\n",
    "\n",
    "z_dim = 64  # noise vector\n",
    "lr = 0.00001\n",
    "loss_func = nn.BCEWithLogitsLoss()\n",
    "\n",
    "bs = 128\n",
    "device = 'cuda'\n",
    "\n",
    "dataloader = DataLoader(MNIST('.',download=True, transform=transforms.ToTensor()),shuffle = True,batch_size=bs)\n",
    "\n",
    "# number of steps -> 60000/128 ~ 468\n",
    "\n"
   ]
  },
  {
   "cell_type": "code",
   "execution_count": null,
   "metadata": {},
   "outputs": [],
   "source": [
    "# declare our models\n",
    "\n",
    "#Generator\n",
    "def genBlock(inp, out):\n",
    "    return nn.Sequential(\n",
    "        nn.Linear(inp,out),\n",
    "        nn.BatchNorm1d(out),\n",
    "        nn.ReLU(inplace=True))\n",
    "\n",
    "\n",
    "class Generator(nn.Module):\n",
    "    def __init__(self,z_dim=64,i_dim=784,h_dim=128):\n",
    "        super().__init__()\n",
    "        self.gen = nn.Sequential(\n",
    "            genBlock(z_dim,h_dim), # 64,128\n",
    "            genBlock(h_dim,h_dim*2), # 128,256\n",
    "            genBlock(h_dim*2,h_dim*4), # 256 * 512\n",
    "            genBlock(h_dim*4,h_dim*8), # 512 1024\n",
    "            nn.Linear(h_dim*8, i_dim),\n",
    "            nn.Sigmoid()\n",
    "            )\n",
    "        \n",
    "    def forward(self,noise):\n",
    "        return self.gen(noise)\n",
    "    \n",
    "\n",
    "def gen_noise(number, z_dim):\n",
    "    return torch.randn(number,z_dim).to(device)\n",
    "\n",
    "\n",
    "# Discriminator\n",
    "def discBlock(inp, out):\n",
    "    return nn.Sequential(\n",
    "        nn.Linear(inp,out),\n",
    "        nn.LeakyReLU(0.2)\n",
    "    )\n",
    "\n",
    "class Discriminator(nn.Module):\n",
    "    def __init__(self,i_dim = 784, h_dim =256):\n",
    "        super().__init__()\n",
    "        self.disc = nn.Sequential(\n",
    "            discBlock(i_dim, h_dim*4), # 784,1024\n",
    "            discBlock(h_dim*4, h_dim*2),\n",
    "            discBlock(h_dim*2, h_dim),\n",
    "            nn.Linear(h_dim,1) # 251 1\n",
    "     \n",
    "        )\n",
    "\n",
    "    def forward(self, image):\n",
    "        return self.disc(image)\n",
    "\n"
   ]
  }
 ],
 "metadata": {
  "kernelspec": {
   "display_name": "Python 3",
   "language": "python",
   "name": "python3"
  },
  "language_info": {
   "codemirror_mode": {
    "name": "ipython",
    "version": 3
   },
   "file_extension": ".py",
   "mimetype": "text/x-python",
   "name": "python",
   "nbconvert_exporter": "python",
   "pygments_lexer": "ipython3",
   "version": "3.11.3"
  },
  "orig_nbformat": 4
 },
 "nbformat": 4,
 "nbformat_minor": 2
}
